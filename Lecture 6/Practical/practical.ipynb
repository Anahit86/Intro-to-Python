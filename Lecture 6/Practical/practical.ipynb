{
 "cells": [
  {
   "cell_type": "code",
   "execution_count": null,
   "metadata": {},
   "outputs": [],
   "source": [
    "class Circule:\n",
    "    def __init__(self,radius,color):\n",
    "        self.radius= radius\n",
    "        self.color= color\n",
    "    \n",
    "    def getDesc(self):\n",
    "        print(\"A\",self.color, \"circle with radius\", self.radius )\n",
    "        \n",
    "\n",
    "circ1= Circule(15, \"red\")\n",
    "print(circ1.color)\n",
    "print(circ1.radius)\n",
    "circ1.getDesc()\n",
    "        "
   ]
  },
  {
   "cell_type": "code",
   "execution_count": null,
   "metadata": {},
   "outputs": [],
   "source": []
  },
  {
   "cell_type": "code",
   "execution_count": null,
   "metadata": {},
   "outputs": [],
   "source": [
    "class method:\n",
    "   \n",
    "        \n",
    "    def get_string(self):\n",
    "        self.new_string= input()\n",
    "    def print_string(self):\n",
    "        print(self.new_string.upper())\n",
    "        \n",
    "met1 = method()\n",
    "met1.get_string()\n",
    "met1.print_string()"
   ]
  },
  {
   "cell_type": "code",
   "execution_count": null,
   "metadata": {},
   "outputs": [],
   "source": [
    "class Employee:\n",
    "    def __init__(self,name,last_name,monthly_salary):\n",
    "        self.name=name\n",
    "        self.last_name=last_name\n",
    "        self.__monthly_salary=monthly_salary\n",
    "    def getFullName(self):\n",
    "        print(self.name, self.last_name)\n",
    "    def annualSalary(self):\n",
    "        AS= 12 * self.__monthly_salary\n",
    "        if AS >100:\n",
    "            print (\"High\")\n",
    "        else:\n",
    "            print(\"Low\")\n",
    "       \n",
    "emp1= Employee(\"Anahit\", \"Ganjalyan\",monthly_salary=500)\n",
    "print(emp1._Employee__monthly_salary)\n",
    "print(emp1.name)\n",
    "print(emp1.last_name)\n",
    "emp1.getFullName()\n",
    "emp1.annualSalary()"
   ]
  },
  {
   "cell_type": "code",
   "execution_count": null,
   "metadata": {},
   "outputs": [],
   "source": [
    "class Car:\n",
    "    def __init__(self,model,color,max_speed):\n",
    "        self.model=model\n",
    "        self.color=color\n",
    "        self.max_speed=max_speed\n",
    "    def compareCar(self,car2):\n",
    "        \n",
    "        if self.max_speed > car2.max_speed:\n",
    "            print(\"car1 is better than car2\")\n",
    "        else:\n",
    "            print(\"car2 is better than car1\")\n",
    "        \n",
    "car1 = Car(\"bmw\", \"red\", 300)\n",
    "car2 = Car(\"toyota\",\"black\", 400)\n",
    "car1.compareCar(car2)"
   ]
  },
  {
   "cell_type": "code",
   "execution_count": null,
   "metadata": {},
   "outputs": [],
   "source": [
    "class Police_car:\n",
    "    tax_value = 0.2\n",
    "    def __init__(self,owner,price,pass_code):\n",
    "        self.owner=owner\n",
    "        self.price=price\n",
    "        self.__pass_code=pass_code\n",
    "    def set_pass_code(self,new_code):\n",
    "        self.__pass_code=new_code\n",
    "    def get_pass_code(self):\n",
    "        return self.__pass_code\n",
    "    def tax(self):\n",
    "        S = self.tax_value * self.price\n",
    "        print(S)\n",
    "    def greeting(self):\n",
    "        if self.__pass_code == \"admin\":\n",
    "            print(\"Welcome to your car,\", self.owner)\n",
    "\n",
    "police1= Police_car(\"Anahit\", 400, pass_code= 1234)\n",
    "print(police1.owner)\n",
    "print(police1.price)\n",
    "print(police1._Police_car__pass_code)\n",
    "police1.set_pass_code(\"admin\")\n",
    "police1.get_pass_code()\n",
    "police1.tax()\n",
    "police1.greeting()"
   ]
  },
  {
   "cell_type": "code",
   "execution_count": null,
   "metadata": {},
   "outputs": [],
   "source": [
    "def Alarm(day):\n",
    "    assert day != \"Sunday\", \"I wan't wake up today\"\n",
    "    \n",
    "    print(\"working day\")\n",
    "Alarm(\"Friday\")"
   ]
  },
  {
   "cell_type": "code",
   "execution_count": null,
   "metadata": {},
   "outputs": [],
   "source": [
    "def sum(x,y):\n",
    "    S = x+y\n",
    "    assert type(x) == int and type(y) == int, \"Arguments of type int required\"\n",
    "    print(S)\n",
    "sum(4,5)"
   ]
  },
  {
   "cell_type": "code",
   "execution_count": null,
   "metadata": {},
   "outputs": [],
   "source": [
    "def div(x,y):\n",
    "    try:\n",
    "        return(x/y)\n",
    "    except ZeroDivisionError as e:\n",
    "        print(e)\n",
    "div(8,0)   "
   ]
  },
  {
   "cell_type": "code",
   "execution_count": null,
   "metadata": {},
   "outputs": [],
   "source": [
    "list1= [\"a\",0,2]\n",
    "for i in list1:\n",
    "    print(\"The entry is:\", i)\n",
    "    try:\n",
    "        print(\"The reciprocal of\", i,\"is\",1/i)\n",
    "        \n",
    "    except TypeError as e:\n",
    "        print(\"Oops\", e)\n",
    "    except ZeroDivisionError as e:\n",
    "        print(\"Oops\", e)"
   ]
  },
  {
   "cell_type": "code",
   "execution_count": null,
   "metadata": {},
   "outputs": [],
   "source": [
    "username = input()\n",
    "try:\n",
    "    if username == \"Rambo\":\n",
    "        raise Exception\n",
    "    else:\n",
    "        print(\"Welcome\", username)\n",
    "except Exception:\n",
    "    print(\"Rambo is aninvalid username\")\n",
    "        "
   ]
  },
  {
   "cell_type": "code",
   "execution_count": null,
   "metadata": {},
   "outputs": [],
   "source": [
    "\n",
    "        "
   ]
  },
  {
   "cell_type": "code",
   "execution_count": null,
   "metadata": {},
   "outputs": [],
   "source": []
  },
  {
   "cell_type": "code",
   "execution_count": null,
   "metadata": {},
   "outputs": [],
   "source": []
  }
 ],
 "metadata": {
  "kernelspec": {
   "display_name": "Python 3",
   "language": "python",
   "name": "python3"
  },
  "language_info": {
   "codemirror_mode": {
    "name": "ipython",
    "version": 3
   },
   "file_extension": ".py",
   "mimetype": "text/x-python",
   "name": "python",
   "nbconvert_exporter": "python",
   "pygments_lexer": "ipython3",
   "version": "3.7.3"
  }
 },
 "nbformat": 4,
 "nbformat_minor": 2
}
