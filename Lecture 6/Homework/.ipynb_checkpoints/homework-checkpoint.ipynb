{
 "cells": [
  {
   "cell_type": "code",
   "execution_count": 1,
   "metadata": {},
   "outputs": [
    {
     "name": "stdout",
     "output_type": "stream",
     "text": [
      "Anahit\n",
      "Ganjalyan\n",
      "55\n",
      "False\n",
      "female\n",
      "1234\n",
      "Welcome John\n",
      "<function Person.Greeting at 0x00000246AFB04C80> running time is 0.0\n",
      "bye everyone!\n",
      "enter some integer number5\n",
      "My favourite number is 5\n",
      "python\n"
     ]
    },
    {
     "data": {
      "text/plain": [
       "56"
      ]
     },
     "execution_count": 1,
     "metadata": {},
     "output_type": "execute_result"
    }
   ],
   "source": [
    "import time\n",
    "def my_dec (func):\n",
    "    def wrapper(*args, **kwargs):\n",
    "        start_time= time.time()\n",
    "        func(*args, **kwargs)\n",
    "        end = time.time()\n",
    "        print(func, \"running time is\", end - start_time)\n",
    "    return wrapper\n",
    "\n",
    "class Person:\n",
    "    def __init__(self,name,last_name,age,gender,student,password):\n",
    "        self.name=name\n",
    "        self.last_name=last_name\n",
    "        self.age=age\n",
    "        self.gender=gender\n",
    "        self.student=student\n",
    "        self.__password=password\n",
    "    def set_password(self, new_password):\n",
    "        self.__password = new_password\n",
    "    def get_password(self):\n",
    "        return self.__password\n",
    "    @my_dec\n",
    "    def Greeting(self,second_person):\n",
    "        print(\"Welcome\", second_person.name)\n",
    "    def Goodbye(self):\n",
    "        print(\"bye everyone!\")\n",
    "    def Favourite_num(self,num1):\n",
    "        num1= int(input(\"enter some integer number\"))\n",
    "        try:\n",
    "            if isinstance(num1, int) is True:\n",
    "                print(\"My favourite number is\", num1)\n",
    "            else:\n",
    "                raise Exception\n",
    "        except Exception:\n",
    "            print(\"Error!!!Insert some integer\")\n",
    "        \n",
    "    def Read_file(self,filename):\n",
    "        filename = input()\n",
    "        try:\n",
    "            f = open(filename+\".txt\")\n",
    "        except FileNotFoundError as e:\n",
    "            print(e)\n",
    "\n",
    "first_person = Person(\"Anahit\", \"Ganjalyan\", 25, \"female\",True, password= 1234)\n",
    "second_person = Person(\"John\", \"Smith\", 55, \"male\", False, password = 456)\n",
    "print(first_person.name)\n",
    "print(first_person.last_name)\n",
    "print(second_person.age)\n",
    "print(second_person.student)\n",
    "print(first_person.gender)\n",
    "print(first_person._Person__password)\n",
    "second_person.Greeting(second_person)\n",
    "first_person.Goodbye()\n",
    "Person.Favourite_num(first_person, 4)\n",
    "Person.Read_file(second_person, \"python\")\n",
    "first_person.set_password(56)\n",
    "first_person.get_password()\n",
    "\n",
    "        "
   ]
  },
  {
   "cell_type": "code",
   "execution_count": 9,
   "metadata": {},
   "outputs": [
    {
     "ename": "AssertionError",
     "evalue": "Can't divide",
     "output_type": "error",
     "traceback": [
      "\u001b[1;31m---------------------------------------------------------------------------\u001b[0m",
      "\u001b[1;31mAssertionError\u001b[0m                            Traceback (most recent call last)",
      "\u001b[1;32m<ipython-input-9-24587e24a5f0>\u001b[0m in \u001b[0;36m<module>\u001b[1;34m\u001b[0m\n\u001b[0;32m      2\u001b[0m     \u001b[1;32massert\u001b[0m \u001b[0my\u001b[0m \u001b[1;33m!=\u001b[0m\u001b[1;36m0\u001b[0m \u001b[1;33m,\u001b[0m \u001b[1;34m\"Can't divide\"\u001b[0m\u001b[1;33m\u001b[0m\u001b[1;33m\u001b[0m\u001b[0m\n\u001b[0;32m      3\u001b[0m     \u001b[1;32mreturn\u001b[0m \u001b[0mx\u001b[0m\u001b[1;33m/\u001b[0m\u001b[0my\u001b[0m\u001b[1;33m\u001b[0m\u001b[1;33m\u001b[0m\u001b[0m\n\u001b[1;32m----> 4\u001b[1;33m \u001b[0mdiv\u001b[0m\u001b[1;33m(\u001b[0m\u001b[1;36m8\u001b[0m\u001b[1;33m,\u001b[0m\u001b[1;36m0\u001b[0m\u001b[1;33m)\u001b[0m\u001b[1;33m\u001b[0m\u001b[1;33m\u001b[0m\u001b[0m\n\u001b[0m",
      "\u001b[1;32m<ipython-input-9-24587e24a5f0>\u001b[0m in \u001b[0;36mdiv\u001b[1;34m(x, y)\u001b[0m\n\u001b[0;32m      1\u001b[0m \u001b[1;32mdef\u001b[0m \u001b[0mdiv\u001b[0m\u001b[1;33m(\u001b[0m\u001b[0mx\u001b[0m\u001b[1;33m,\u001b[0m\u001b[0my\u001b[0m\u001b[1;33m)\u001b[0m\u001b[1;33m:\u001b[0m\u001b[1;33m\u001b[0m\u001b[1;33m\u001b[0m\u001b[0m\n\u001b[1;32m----> 2\u001b[1;33m     \u001b[1;32massert\u001b[0m \u001b[0my\u001b[0m \u001b[1;33m!=\u001b[0m\u001b[1;36m0\u001b[0m \u001b[1;33m,\u001b[0m \u001b[1;34m\"Can't divide\"\u001b[0m\u001b[1;33m\u001b[0m\u001b[1;33m\u001b[0m\u001b[0m\n\u001b[0m\u001b[0;32m      3\u001b[0m     \u001b[1;32mreturn\u001b[0m \u001b[0mx\u001b[0m\u001b[1;33m/\u001b[0m\u001b[0my\u001b[0m\u001b[1;33m\u001b[0m\u001b[1;33m\u001b[0m\u001b[0m\n\u001b[0;32m      4\u001b[0m \u001b[0mdiv\u001b[0m\u001b[1;33m(\u001b[0m\u001b[1;36m8\u001b[0m\u001b[1;33m,\u001b[0m\u001b[1;36m0\u001b[0m\u001b[1;33m)\u001b[0m\u001b[1;33m\u001b[0m\u001b[1;33m\u001b[0m\u001b[0m\n",
      "\u001b[1;31mAssertionError\u001b[0m: Can't divide"
     ]
    }
   ],
   "source": [
    "def div(x,y):\n",
    "    assert y !=0 , \"Can't divide\"\n",
    "    return x/y\n",
    "div(8,0)"
   ]
  },
  {
   "cell_type": "code",
   "execution_count": null,
   "metadata": {},
   "outputs": [],
   "source": [
    "try:\n",
    "    import sy\n",
    "except ModuleNotFoundError as e:\n",
    "    print(e)"
   ]
  },
  {
   "cell_type": "code",
   "execution_count": null,
   "metadata": {},
   "outputs": [],
   "source": []
  },
  {
   "cell_type": "code",
   "execution_count": null,
   "metadata": {},
   "outputs": [],
   "source": []
  },
  {
   "cell_type": "code",
   "execution_count": null,
   "metadata": {},
   "outputs": [],
   "source": []
  }
 ],
 "metadata": {
  "kernelspec": {
   "display_name": "Python 3",
   "language": "python",
   "name": "python3"
  },
  "language_info": {
   "codemirror_mode": {
    "name": "ipython",
    "version": 3
   },
   "file_extension": ".py",
   "mimetype": "text/x-python",
   "name": "python",
   "nbconvert_exporter": "python",
   "pygments_lexer": "ipython3",
   "version": "3.7.3"
  }
 },
 "nbformat": 4,
 "nbformat_minor": 2
}
