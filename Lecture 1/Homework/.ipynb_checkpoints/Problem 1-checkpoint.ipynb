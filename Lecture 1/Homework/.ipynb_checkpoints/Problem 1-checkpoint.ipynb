{
 "cells": [
  {
   "cell_type": "code",
   "execution_count": 12,
   "metadata": {},
   "outputs": [
    {
     "name": "stdout",
     "output_type": "stream",
     "text": [
      "False\n",
      "True\n",
      "True\n",
      "False\n"
     ]
    }
   ],
   "source": [
    "project = \"cake\"\n",
    "difficulty = \"5\"\n",
    "ingredients = [\"flour\" , \"butter\" , \"sugar\", \"eggs\", \"cocoa powder\", \"baking powder\"]\n",
    "\n",
    "flour = 175\n",
    "butter = 175\n",
    "sugar = \"100g\"\n",
    "eggs = 2\n",
    "cocoa_powder = \"1st\"\n",
    "baking_powder = 0.5\n",
    "\n",
    "print (\"apple\" in ingredients)\n",
    "print (\"butter\" in ingredients)\n",
    "print (\"eggs\" in ingredients or \"margarine\" in ingredients)\n",
    "print (\"eggs\" in ingredients and \"margarine\" in ingredients)\n",
    "\n",
    "print (\"flour type is\" ,type(flour), \"\\n\", \"butter type is:\", type(butter), \"\\n\", \"sugar type is:\", type(sugar), \"\\n\",\"eggs type is:\", type(eggs), \"\\n\", \n",
    "       \"cocoa_powder type is:\" , type(cocoa_powder), \"\\n\", \"baking_powder type is:\", type(baking_powder) )\n",
    "\n",
    "print(\"flour -\", flour, \"\\n\" ,\"butter -\", butter, \"\\n\",  \"sugar -\", sugar, \"\\n\", \"eggs -\", eggs, \"\\n\", \"cocoa_powder -\", cocoa_powder, \"\\n\", \"baking_powder -\", baking_powder)"
   ]
  },
  {
   "cell_type": "code",
   "execution_count": null,
   "metadata": {},
   "outputs": [],
   "source": []
  },
  {
   "cell_type": "code",
   "execution_count": null,
   "metadata": {},
   "outputs": [],
   "source": []
  }
 ],
 "metadata": {
  "kernelspec": {
   "display_name": "Python 3",
   "language": "python",
   "name": "python3"
  },
  "language_info": {
   "codemirror_mode": {
    "name": "ipython",
    "version": 3
   },
   "file_extension": ".py",
   "mimetype": "text/x-python",
   "name": "python",
   "nbconvert_exporter": "python",
   "pygments_lexer": "ipython3",
   "version": "3.7.3"
  }
 },
 "nbformat": 4,
 "nbformat_minor": 2
}
