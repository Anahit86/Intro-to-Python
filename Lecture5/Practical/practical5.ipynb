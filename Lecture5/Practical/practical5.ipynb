{
 "cells": [
  {
   "cell_type": "code",
   "execution_count": 2,
   "metadata": {},
   "outputs": [],
   "source": [
    "#Problem1\n",
    "def averg (a,b,c):\n",
    "    x = (a+b+c)/3\n",
    "    return(x)"
   ]
  },
  {
   "cell_type": "code",
   "execution_count": 3,
   "metadata": {},
   "outputs": [
    {
     "data": {
      "text/plain": [
       "4.0"
      ]
     },
     "execution_count": 3,
     "metadata": {},
     "output_type": "execute_result"
    }
   ],
   "source": [
    "averg(3,4,5)"
   ]
  },
  {
   "cell_type": "code",
   "execution_count": 6,
   "metadata": {
    "scrolled": true
   },
   "outputs": [
    {
     "data": {
      "text/plain": [
       "5"
      ]
     },
     "execution_count": 6,
     "metadata": {},
     "output_type": "execute_result"
    }
   ],
   "source": [
    "#problem2\n",
    "def even (*argv):\n",
    "    c=[x for x in argv if x%2==0]\n",
    "    return(len(c))\n",
    "even(2,3,4,5,6,7,8,12)"
   ]
  },
  {
   "cell_type": "code",
   "execution_count": 44,
   "metadata": {},
   "outputs": [
    {
     "name": "stdout",
     "output_type": "stream",
     "text": [
      "True\n"
     ]
    }
   ],
   "source": [
    "#problem3\n",
    "def pswd (password):\n",
    "    \n",
    "    if len(password) >=10 and len([x for x in password if x.isdigit()]) >=2:\n",
    "        print(True)\n",
    "    else:\n",
    "        print(False)\n",
    "pswd(\"afasj7dkhsf6kjhffad\")\n",
    "        "
   ]
  },
  {
   "cell_type": "code",
   "execution_count": 4,
   "metadata": {},
   "outputs": [
    {
     "name": "stdout",
     "output_type": "stream",
     "text": [
      "Anahit fff\n"
     ]
    }
   ],
   "source": [
    "#problem4\n",
    "def welcome(name,greeting='welcome to our company'):\n",
    "    print(name,greeting)\n",
    "welcome(\"Anahit\")\n",
    "\n"
   ]
  },
  {
   "cell_type": "code",
   "execution_count": 36,
   "metadata": {},
   "outputs": [
    {
     "name": "stdout",
     "output_type": "stream",
     "text": [
      "argument 1  name: 1\n",
      "argument 2  name: 2\n",
      "argument 3  name: ff\n",
      "argument 4  name: FASFA\n"
     ]
    }
   ],
   "source": [
    "#problem6\n",
    "def test(user, *argv):\n",
    "    if user is \"admin\":\n",
    "        i =0 \n",
    "        for item in argv:\n",
    "            i+=1\n",
    "            print(\"argument\",i,\" name:\", item)\n",
    "    else:\n",
    "        print (\"access denied to the user\", user)\n",
    "test(\"admin\", 1,2,\"ff\",\"FASFA\")    "
   ]
  },
  {
   "cell_type": "code",
   "execution_count": 24,
   "metadata": {},
   "outputs": [
    {
     "name": "stdout",
     "output_type": "stream",
     "text": [
      "anahit your average grade is: 17.0\n"
     ]
    }
   ],
   "source": [
    "#problem5\n",
    "def your_averg(name, *argv):\n",
    "    if len(argv)> 0:\n",
    "        Y=0\n",
    "        for item in argv:\n",
    "            Y +=item\n",
    "        aver= Y/len(argv)\n",
    "    print(name,\"your average grade is:\", aver)\n",
    "your_averg(\"anahit\", 15,16,18,19)"
   ]
  },
  {
   "cell_type": "code",
   "execution_count": 35,
   "metadata": {},
   "outputs": [
    {
     "name": "stdout",
     "output_type": "stream",
     "text": [
      "anahit your average grade is: 17.0\n"
     ]
    }
   ],
   "source": [
    "def your_averg(name, *argv):\n",
    "    Y=sum(argv)\n",
    "    aver= sum(argv)/len(argv)\n",
    "    print(name,\"your average grade is:\", aver)\n",
    "your_averg(\"anahit\", 15,16,18,19)"
   ]
  },
  {
   "cell_type": "code",
   "execution_count": 10,
   "metadata": {},
   "outputs": [
    {
     "name": "stdout",
     "output_type": "stream",
     "text": [
      "before_calling add_value: ['Anna', 'Edgar']\n",
      "after calling add_value: ['Anna', 'Edgar', 'elza', 'Ani', 'Vardan']\n"
     ]
    }
   ],
   "source": [
    "#problem 8\n",
    "list1 = [\"Anna\", \"Edgar\"]\n",
    "def adding(func):\n",
    "    def wrapper(*argv):\n",
    "        print(\"before_calling add_value:\",list1)\n",
    "        func(*argv)\n",
    "        print(\"after calling add_value:\" ,list1)\n",
    "    return wrapper\n",
    "\n",
    "@adding\n",
    "def addvalues(*argv):\n",
    "    list2 = list(argv)\n",
    "    #l = list1+list2\n",
    "    list1.extend(list2)\n",
    "    return(list1)  \n",
    "\n",
    "addvalues(\"elza\", \"Ani\", \"Vardan\")"
   ]
  },
  {
   "cell_type": "code",
   "execution_count": 49,
   "metadata": {},
   "outputs": [
    {
     "name": "stdout",
     "output_type": "stream",
     "text": [
      "Hi everyone!!!Welcometo the party.\n"
     ]
    }
   ],
   "source": [
    "def no ():\n",
    "    return(\"HI EVERYONE!\")\n",
    "\n",
    "def first(func1):\n",
    "    def wrap(*args):\n",
    "        list=func1(*args)\n",
    "        return list[0]+list[1:].lower() \n",
    "    return wrap\n",
    "\n",
    "def second(func2):\n",
    "    def wrap1(*args):\n",
    "        str = func2(*args)\n",
    "        print(str +\"!!!Welcometo the party.\")\n",
    "    return wrap1\n",
    "\n",
    "@second\n",
    "@first\n",
    "def no():\n",
    "    x = \"HI EVERYONE\"\n",
    "    return x    \n",
    "no()"
   ]
  },
  {
   "cell_type": "code",
   "execution_count": 63,
   "metadata": {},
   "outputs": [
    {
     "name": "stdout",
     "output_type": "stream",
     "text": [
      "<generator object list_els at 0x000001C782FBE390>\n"
     ]
    }
   ],
   "source": [
    "def list_els(list1):\n",
    "    for item in list1:\n",
    "        yield (item)\n",
    "a=list_els([\"aa\",2,3,4])\n",
    "print(a)"
   ]
  },
  {
   "cell_type": "code",
   "execution_count": null,
   "metadata": {},
   "outputs": [],
   "source": [
    "next(a)"
   ]
  },
  {
   "cell_type": "code",
   "execution_count": null,
   "metadata": {},
   "outputs": [],
   "source": [
    "def integ(n):\n",
    "    i=0\n",
    "    while i < n:\n",
    "        yield (i)\n",
    "        i+=1\n",
    "b = integ(17)\n",
    "print(b)"
   ]
  },
  {
   "cell_type": "code",
   "execution_count": null,
   "metadata": {},
   "outputs": [],
   "source": [
    "next(b)"
   ]
  },
  {
   "cell_type": "code",
   "execution_count": null,
   "metadata": {},
   "outputs": [],
   "source": [
    "S= (i for i  in range(17))\n",
    "print(S)"
   ]
  },
  {
   "cell_type": "code",
   "execution_count": 94,
   "metadata": {},
   "outputs": [
    {
     "data": {
      "text/plain": [
       "5"
      ]
     },
     "execution_count": 94,
     "metadata": {},
     "output_type": "execute_result"
    }
   ],
   "source": [
    "next(S)"
   ]
  },
  {
   "cell_type": "code",
   "execution_count": null,
   "metadata": {},
   "outputs": [],
   "source": [
    "word = \"kolobok\"\n",
    "print(word[::1])\n",
    "new_word= word.lower()\n",
    "if new_word[0:] == word[::1]:\n",
    "    print(True)\n",
    "else:\n",
    "    print(False)"
   ]
  },
  {
   "cell_type": "code",
   "execution_count": null,
   "metadata": {},
   "outputs": [],
   "source": [
    "class Palindrome:\n",
    "  @staticmethod\n",
    "  def is_palindrome(word):\n",
    "    #Please write your code here.\n",
    "    new_word=word.lower()\n",
    "    if new_word[0:] == new_word[::-1]:\n",
    "        \n",
    "        return True\n",
    "    else:\n",
    "        return None\n",
    "word = input()\n",
    "print(Palindrome.is_palindrome(word))"
   ]
  },
  {
   "cell_type": "code",
   "execution_count": null,
   "metadata": {},
   "outputs": [],
   "source": []
  }
 ],
 "metadata": {
  "kernelspec": {
   "display_name": "Python 3",
   "language": "python",
   "name": "python3"
  },
  "language_info": {
   "codemirror_mode": {
    "name": "ipython",
    "version": 3
   },
   "file_extension": ".py",
   "mimetype": "text/x-python",
   "name": "python",
   "nbconvert_exporter": "python",
   "pygments_lexer": "ipython3",
   "version": "3.7.3"
  }
 },
 "nbformat": 4,
 "nbformat_minor": 2
}
